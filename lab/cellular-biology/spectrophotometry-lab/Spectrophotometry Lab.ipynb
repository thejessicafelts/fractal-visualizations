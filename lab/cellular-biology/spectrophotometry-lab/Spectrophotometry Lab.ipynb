{
 "cells": [
  {
   "cell_type": "code",
   "execution_count": 21,
   "id": "4eb95fff-a1d7-4643-bf94-1dc403b8a930",
   "metadata": {},
   "outputs": [],
   "source": [
    "import numpy as np\n",
    "import matplotlib.pyplot as plt\n",
    "import pandas as pd\n",
    "from sklearn.linear_model import LinearRegression"
   ]
  },
  {
   "cell_type": "markdown",
   "id": "f13b1cd4-daa0-431f-9dfb-d3758ae978d7",
   "metadata": {},
   "source": [
    "# **Spectrophotometry Lab Data**\n",
    "\n",
    "## **Purpose**\n",
    "\n",
    "---\n",
    "\n",
    "The aim of this experiment is to determine the molar concentration of two unknown samples, by determining the absorbance and percent transmittance values for six solutions with known concentrations, utilizing a spectrophotometer, and then calculating the unknown concentrations by applying the linear regression equation derived from the standard curve created from the known samples.\n",
    "\n",
    "## **Introduction**\n",
    "\n",
    "---\n",
    "\n",
    "In the interdisciplinary field of cellular biology, an understanding of chemical principles is essential, particularly when investigating the concentration of cellular constituents. Spectrophotometry emerges as a critical analytical technique in this context, enabling the quantification of solute concentrations within solutions through the principles outlined by the Beer-Lambert Law, which correlates the absorbance and transmittance of light to solute concentration.\n",
    "\n",
    "In this experiment, the functionality of a spectrophotometer is employed to ascertain the absorbance and transmittance values of six solutions with pre-established molar concentrations. The generation of a standard curve from these values is a pivotal step, as it provides a means to deduce the concentrations of unknown samples through linear regression analysis. This methodology exemplifies the practical application of spectrophotometry in a laboratory setting, reinforcing the connection between theoretical knowledge and empirical practice.\n",
    "\n",
    "The accurate determination of the molar concentrations of the unknown samples not only demonstrates the precision and utility of spectrophotometry but also highlights its significance in the broader scope of chemical analysis within cellular biology. This experiment thus serves to enhance the understanding and application of spectrophotometric techniques in the analysis of biological samples, reflecting its vital role in the scientific exploration of cellular processes.\n",
    "\n",
    "## **Preparation**\n",
    "\n",
    "---\n",
    "\n",
    "### **Chemicals Used**\n",
    "\n",
    "For Day 1 of this experiment, each bench was provided with an Erlenmeyer Flask containing a 1.00M solution of Methylene Blue, and distilled water was readily accessible. \n",
    "\n",
    "For Day 2 of this experiment, the class was also provided with access to two Erlenmeyer Flasks containing unknown samples, labeled A and B.\n",
    "\n",
    "### **Safety Measures**\n",
    "\n",
    "To ensure safety during this experiment, safety glasses were worn by each participant, and the lab bench was cleared of all unnecessary items before the experiment began. \n",
    "\n",
    "Throughout the experiment, waste was disposed of according to lab protocols, glassware was rinsed and placed in the designated area for used glassware. Finally, after each day of the experiment, safety glasses were put away, and the lab bench was disinfected prior to departure.\n",
    "\n",
    "### **Equipment Used**\n",
    "\n",
    "For Day 1 of this experiment, 6 test tubes were collected, and labeled 1-6.\n",
    "\n",
    "In addition to the test tubes, a test tube rack, a 150mL beaker, parafilm squares, a vortex mixer, 5mL and 10mL pipettes, a 100-1000μl micropipette and corresponding tips, masking tape, and a sharpie marker were utilized.\n",
    "\n",
    "For Day 2 of this experiment, 9 cuvettes, a box of kimwipes, and a spectrophotometer were also utilized.\n",
    "\n",
    "After concluding the lab portion of this experiment, data was analyzed using Google Sheets (an alternative to Excel), and data has been recorded in the appropriate section.\n",
    "\n",
    "### **Additional Research**\n",
    "\n",
    "The Beer-Lambert Law, a fundamental principle in analytical chemistry, was researched outside of this course to better understand the measurements we would be taking for this experiment. The Beer-Lambert Law shows the linear relationship between the concentration of an absorbing species in solution and the absorption of light passing through that solution. \n",
    "\n",
    "The basic premise of this law is that Absorbance (A) is directly proportional to both the path length (b) of the light through the medium, typically in centimeters, and the concentration (c) of the absorbing species, expressed in moles per liter (M). Mathematically, the law is represented by:\n",
    "\n",
    "<div style=\"font-size: 200%;\">\n",
    "$$\n",
    "A = \\epsilon  b  c\n",
    "$$\n",
    "</div>\n",
    "\n",
    "This principle is pivotal in spectrophotometry, allowing for the quantification of solute concentrations by measuring the intensity of light before and after it passes through a sample. In the context of cellular biology, the Beer-Lambert Law facilitates the analysis of biomolecular concentrations, thereby contributing to a deeper understanding of cellular processes and functions.\n",
    "\n",
    "## **Procedure**\n",
    "\n",
    "---\n",
    "\n",
    "This experiment included a pre-lab assignment, and was then spread out over two lab sessions, 48-hours apart, concluding with graphing and calculations.\n",
    "\n",
    "### **Pre-Lab Assignment**\n",
    "\n",
    "Prior to the start of this experiment, participants were required to complete an online  Spectrophotometer lesson from NC-BioNetwork, and provide the certificate of completion. This lesson covered the basic procedure for using a spectrophotometer, ensuring some level of familiarity with the machine, prior to beginning the experiment.\n",
    "\n",
    "The certificate of completion has been included as **Image 1**."
   ]
  },
  {
   "cell_type": "markdown",
   "id": "9ed49719-99b9-4a19-b556-d1d0d9796194",
   "metadata": {},
   "source": [
    "## **Referenced Materials**\n",
    "\n",
    "---\n",
    "\n",
    "### _**Table 1:** Raw data collection._"
   ]
  },
  {
   "cell_type": "code",
   "execution_count": 29,
   "id": "87e8a96b-3d05-49f7-b905-320eaa1ee9b9",
   "metadata": {},
   "outputs": [
    {
     "data": {
      "text/html": [
       "<table border=\"1\" class=\"dataframe\">\n",
       "  <thead>\n",
       "    <tr style=\"text-align: right;\">\n",
       "      <th>Tube</th>\n",
       "      <th>Molarity</th>\n",
       "      <th>Absorbance</th>\n",
       "      <th>Transmittence (%)</th>\n",
       "    </tr>\n",
       "  </thead>\n",
       "  <tbody>\n",
       "    <tr>\n",
       "      <td>1</td>\n",
       "      <td>1.0</td>\n",
       "      <td>0.218</td>\n",
       "      <td>60.5</td>\n",
       "    </tr>\n",
       "    <tr>\n",
       "      <td>2</td>\n",
       "      <td>0.5</td>\n",
       "      <td>0.095</td>\n",
       "      <td>80.4</td>\n",
       "    </tr>\n",
       "    <tr>\n",
       "      <td>3</td>\n",
       "      <td>0.25</td>\n",
       "      <td>0.061</td>\n",
       "      <td>86.9</td>\n",
       "    </tr>\n",
       "    <tr>\n",
       "      <td>4</td>\n",
       "      <td>0.125</td>\n",
       "      <td>0.026</td>\n",
       "      <td>94.2</td>\n",
       "    </tr>\n",
       "    <tr>\n",
       "      <td>5</td>\n",
       "      <td>0.0125</td>\n",
       "      <td>0.02</td>\n",
       "      <td>99.4</td>\n",
       "    </tr>\n",
       "    <tr>\n",
       "      <td>6</td>\n",
       "      <td>0.00125</td>\n",
       "      <td>0.001</td>\n",
       "      <td>99.8</td>\n",
       "    </tr>\n",
       "    <tr>\n",
       "      <td>7 (Blank)</td>\n",
       "      <td>0.0</td>\n",
       "      <td>0.0</td>\n",
       "      <td>100.0</td>\n",
       "    </tr>\n",
       "    <tr>\n",
       "      <td>* Unknown A</td>\n",
       "      <td>* 0.468</td>\n",
       "      <td>* 0.102</td>\n",
       "      <td>* 79.3</td>\n",
       "    </tr>\n",
       "    <tr>\n",
       "      <td>** Unknown B</td>\n",
       "      <td>** 0.217</td>\n",
       "      <td>** 0.050</td>\n",
       "      <td>** 89.2</td>\n",
       "    </tr>\n",
       "  </tbody>\n",
       "</table>"
      ],
      "text/plain": [
       "<IPython.core.display.HTML object>"
      ]
     },
     "metadata": {},
     "output_type": "display_data"
    }
   ],
   "source": [
    "import pandas as pd\n",
    "from IPython.display import display, HTML\n",
    "\n",
    "data = {\n",
    "    'Tube': ['1', '2', '3', '4', '5', '6', '7 (Blank)', '* Unknown A', '** Unknown B'],\n",
    "    'Molarity': [1.00, 0.50, 0.25, 0.125, 0.0125, 0.00125, 0.00, '* 0.468', '** 0.217'],\n",
    "    'Absorbance': [0.218, 0.095, 0.061, 0.026, 0.020, 0.001, 0.00, '* 0.102', '** 0.050'],\n",
    "    'Transmittence (%)': [60.5, 80.4, 86.9, 94.2, 99.4, 99.8, 100.0, '* 79.3', '** 89.2']\n",
    "}\n",
    "\n",
    "df = pd.DataFrame(data)\n",
    "\n",
    "# Display DataFrame without index using to_html\n",
    "html_table = df.to_html(index=False)\n",
    "display(HTML(html_table))"
   ]
  },
  {
   "cell_type": "markdown",
   "id": "88295346-3e5a-4a14-bfbd-6bf73fd01fff",
   "metadata": {},
   "source": [
    "`* See Equation 1`\n",
    "\n",
    "`** See Equation 2`"
   ]
  },
  {
   "cell_type": "markdown",
   "id": "f3deea97-fe6e-402e-ba4f-efc79c619fc4",
   "metadata": {},
   "source": [
    "---\n",
    "\n",
    "### _**Table 2:** Concentration (M), Absorbance, and Transmittance (%) of Known Samples._"
   ]
  },
  {
   "cell_type": "code",
   "execution_count": 22,
   "id": "0aa91fba-ef2d-4b41-a6dc-1bc77ba14681",
   "metadata": {},
   "outputs": [
    {
     "data": {
      "text/html": [
       "<table border=\"1\" class=\"dataframe\">\n",
       "  <thead>\n",
       "    <tr style=\"text-align: right;\">\n",
       "      <th>Tube</th>\n",
       "      <th>Molarity</th>\n",
       "      <th>Absorbance</th>\n",
       "      <th>Transmittence (%)</th>\n",
       "    </tr>\n",
       "  </thead>\n",
       "  <tbody>\n",
       "    <tr>\n",
       "      <td>1</td>\n",
       "      <td>1.00000</td>\n",
       "      <td>0.218</td>\n",
       "      <td>60.5</td>\n",
       "    </tr>\n",
       "    <tr>\n",
       "      <td>2</td>\n",
       "      <td>0.50000</td>\n",
       "      <td>0.095</td>\n",
       "      <td>80.4</td>\n",
       "    </tr>\n",
       "    <tr>\n",
       "      <td>3</td>\n",
       "      <td>0.25000</td>\n",
       "      <td>0.061</td>\n",
       "      <td>86.9</td>\n",
       "    </tr>\n",
       "    <tr>\n",
       "      <td>4</td>\n",
       "      <td>0.12500</td>\n",
       "      <td>0.026</td>\n",
       "      <td>94.2</td>\n",
       "    </tr>\n",
       "    <tr>\n",
       "      <td>5</td>\n",
       "      <td>0.01250</td>\n",
       "      <td>0.020</td>\n",
       "      <td>99.4</td>\n",
       "    </tr>\n",
       "    <tr>\n",
       "      <td>6</td>\n",
       "      <td>0.00125</td>\n",
       "      <td>0.001</td>\n",
       "      <td>99.8</td>\n",
       "    </tr>\n",
       "  </tbody>\n",
       "</table>"
      ],
      "text/plain": [
       "<IPython.core.display.HTML object>"
      ]
     },
     "metadata": {},
     "output_type": "display_data"
    }
   ],
   "source": [
    "data = {\n",
    "    'Tube': ['1', '2', '3', '4', '5', '6'],\n",
    "    'Molarity': [1.00, 0.50, 0.25, 0.125, 0.0125, 0.00125],\n",
    "    'Absorbance': [0.218, 0.095, 0.061, 0.026, 0.020, 0.001],\n",
    "    'Transmittence (%)': [60.5, 80.4, 86.9, 94.2, 99.4, 99.8]\n",
    "}\n",
    "\n",
    "df = pd.DataFrame(data)\n",
    "\n",
    "# Display DataFrame without index using to_html\n",
    "html_table = df.to_html(index=False)\n",
    "display(HTML(html_table))"
   ]
  },
  {
   "cell_type": "markdown",
   "id": "2918488a-3993-4b2b-a55a-aa31c034f0b1",
   "metadata": {},
   "source": [
    "---\n",
    "\n",
    "### _**Table 3a:** Absorbance and Transmittance (%) of Samples with unknown Concentration (M)._"
   ]
  },
  {
   "cell_type": "code",
   "execution_count": null,
   "id": "3da3984d-f354-4ebd-a0af-ce9af9f0cbd8",
   "metadata": {},
   "outputs": [],
   "source": [
    "data = {\n",
    "    'Tube': ['Unknown A', 'Unknown B'],\n",
    "    'Molarity': ['Unknown', 'Unknown'],\n",
    "    'Absorbance': ['0.102', '0.050'],\n",
    "    'Transmittence (%)': ['79.3', '89.2']\n",
    "}\n",
    "\n",
    "df = pd.DataFrame(data)\n",
    "\n",
    "# Display DataFrame without index using to_html\n",
    "html_table = df.to_html(index=False)\n",
    "display(HTML(html_table))"
   ]
  },
  {
   "cell_type": "markdown",
   "id": "51284fd7-3093-4002-9d5e-4a88a56e7f4f",
   "metadata": {},
   "source": [
    "---\n",
    "\n",
    "### _**Table 3b:** Absorbance and Transmittance (%) of Unknown Samples after Concentration (M) has been calculated using the linear regression equation: y = 0.207x + 0.00507, where Absorbance of the Unknown Sample serves as y._"
   ]
  },
  {
   "cell_type": "code",
   "execution_count": 28,
   "id": "61a587af-c1ba-471f-b441-4f3e23816a4b",
   "metadata": {},
   "outputs": [
    {
     "data": {
      "text/html": [
       "<table border=\"1\" class=\"dataframe\">\n",
       "  <thead>\n",
       "    <tr style=\"text-align: right;\">\n",
       "      <th>Tube</th>\n",
       "      <th>Molarity</th>\n",
       "      <th>Absorbance</th>\n",
       "      <th>Transmittence (%)</th>\n",
       "    </tr>\n",
       "  </thead>\n",
       "  <tbody>\n",
       "    <tr>\n",
       "      <td>Unknown A</td>\n",
       "      <td>* 0.468</td>\n",
       "      <td>0.102</td>\n",
       "      <td>79.3</td>\n",
       "    </tr>\n",
       "    <tr>\n",
       "      <td>Unknown B</td>\n",
       "      <td>** 0.217</td>\n",
       "      <td>0.050</td>\n",
       "      <td>89.2</td>\n",
       "    </tr>\n",
       "  </tbody>\n",
       "</table>"
      ],
      "text/plain": [
       "<IPython.core.display.HTML object>"
      ]
     },
     "metadata": {},
     "output_type": "display_data"
    }
   ],
   "source": [
    "data = {\n",
    "    'Tube': ['Unknown A', 'Unknown B'],\n",
    "    'Molarity': ['* 0.468', '** 0.217'],\n",
    "    'Absorbance': ['0.102', '0.050'],\n",
    "    'Transmittence (%)': ['79.3', '89.2']\n",
    "}\n",
    "\n",
    "df = pd.DataFrame(data)\n",
    "\n",
    "# Display DataFrame without index using to_html\n",
    "html_table = df.to_html(index=False)\n",
    "display(HTML(html_table))"
   ]
  },
  {
   "cell_type": "markdown",
   "id": "8cc69733-f6c5-456b-85d2-4d69daad50e4",
   "metadata": {},
   "source": [
    "`* See Equation 1`\n",
    "\n",
    "`** See Equation 2`"
   ]
  },
  {
   "cell_type": "markdown",
   "id": "b55cb37b-6485-440d-ad0c-ccb1161443d6",
   "metadata": {},
   "source": [
    "---\n",
    "\n",
    "### _**Figure 1a:** Spectrophotometer Absorbance Readings for Sample Concentrations of Methylene Blue, obtained via Serial Dilution from a 1.00M Initial Sample._"
   ]
  },
  {
   "cell_type": "code",
   "execution_count": 35,
   "id": "1f0f9490-6c33-4358-9972-ba608d5ced7a",
   "metadata": {},
   "outputs": [
    {
     "data": {
      "image/png": "[encoded data removed]",
      "text/plain": [
       "<Figure size 640x480 with 1 Axes>"
      ]
     },
     "metadata": {},
     "output_type": "display_data"
    }
   ],
   "source": [
    "x = [0.00125, 0.0125, 0.125, 0.25, 0.50, 1.00] # Molarity (Concentration)\n",
    "y = [0.001, 0.02, 0.026, 0.061, 0.095, 0.218] # Absorbance\n",
    "\n",
    "# Convert x to a NumPy array and reshape it\n",
    "x = np.array(x).reshape(-1, 1)\n",
    "\n",
    "# Create a linear regression model\n",
    "model = LinearRegression()\n",
    "\n",
    "# Fit the model to the data\n",
    "model.fit(x, y)\n",
    "\n",
    "# Predict values\n",
    "y_pred = model.predict(x)\n",
    "\n",
    "# Create scatter plot\n",
    "plt.scatter(x, y, color='blue', label='Data Points')\n",
    "\n",
    "# Plot the linear regression line\n",
    "plt.plot(x, y_pred, color='lightgrey', label='Linear Regression Line')\n",
    "\n",
    "# Add labels and title\n",
    "plt.title(\"Spectrophotometry Lab\")\n",
    "plt.xlabel(\"Concentration (M)\")\n",
    "plt.ylabel(\"Absorbance\")\n",
    "plt.legend()\n",
    "\n",
    "# Print the equation of the line\n",
    "slope = model.coef_[0]\n",
    "intercept = model.intercept_\n",
    "\n",
    "# Calculate and print the R^2 value\n",
    "r_squared = model.score(x, y)\n",
    "\n",
    "# Add text to the plot with reduced space\n",
    "equation_text = f\"y = {slope:.3f}x + {intercept:.5f}\"\n",
    "r_squared_text = f\"R^2 = {r_squared:.3f}\"\n",
    "\n",
    "# Get the axis limits\n",
    "x_limits = plt.gca().get_xlim()\n",
    "y_limits = plt.gca().get_ylim()\n",
    "\n",
    "# Calculate positions for the text based on the axis limits\n",
    "x_text_position = x_limits[0] + (x_limits[1] - x_limits[0]) * 0.035\n",
    "y_text_position = y_limits[1] - (y_limits[1] - y_limits[0]) * 0.075\n",
    "\n",
    "plt.text(x_text_position, y_text_position, equation_text, fontsize=12, color='blue')\n",
    "plt.text(x_text_position, y_text_position - (y_limits[1] - y_limits[0]) * 0.075, r_squared_text, fontsize=12, color='blue')\n",
    "\n",
    "# Show the plot\n",
    "plt.show()"
   ]
  },
  {
   "cell_type": "markdown",
   "id": "ddfa44bd-6efc-45fb-b5d3-7fb637aa5ecd",
   "metadata": {},
   "source": [
    "The scatter plot shows the relationship between molar concentration (x-axis, independent variable) and the absorbance (y-axis, dependent variable) for 6 samples for which the molar concentration was known. The plot shows that absorbance increases with molar concentration. The R2 value for this dataset has been identified as **0.986**, and a linear regression equation for this data has been identified as: **y = 0.207x + 0.00507**."
   ]
  },
  {
   "cell_type": "markdown",
   "id": "1ad7aadb-48b5-4939-a829-bdd36f61f7c1",
   "metadata": {},
   "source": [
    "---\n",
    "\n",
    "### _**Figure 1b:** Spectrophotometer Absorbance Readings for Sample Concentrations of Methylene Blue, obtained via Serial Dilution from a 1.00M Initial Sample._"
   ]
  },
  {
   "cell_type": "code",
   "execution_count": null,
   "id": "b775325a-48aa-49d0-b73a-f07f454e18e8",
   "metadata": {},
   "outputs": [],
   "source": []
  },
  {
   "cell_type": "markdown",
   "id": "99d54ce5-e2f9-4013-b69d-738d5f118a79",
   "metadata": {},
   "source": [
    "The scatter plot shows the estimated locations for Unknown Sample A (Red) and Unknown Sample B (Purple), based on the calculations performed with the linear regression equation for the data from known samples."
   ]
  },
  {
   "cell_type": "code",
   "execution_count": null,
   "id": "58b193bd-172a-4e06-a77b-60aee4a07728",
   "metadata": {},
   "outputs": [],
   "source": []
  },
  {
   "cell_type": "code",
   "execution_count": null,
   "id": "8fe4246b-c874-4b29-a48b-de64125ca58c",
   "metadata": {},
   "outputs": [],
   "source": []
  },
  {
   "cell_type": "code",
   "execution_count": 20,
   "id": "34ceb006-0c08-47a5-a245-910e3ef12410",
   "metadata": {},
   "outputs": [
    {
     "data": {
      "image/png": "[encoded data removed]",
      "text/plain": [
       "<Figure size 640x480 with 1 Axes>"
      ]
     },
     "metadata": {},
     "output_type": "display_data"
    }
   ],
   "source": [
    "import matplotlib.pyplot as plt\n",
    "\n",
    "# Data\n",
    "s = [6, 5, 4, 3, 2, 1] # Sample Number\n",
    "m = [0.00125, 0.0125, 0.125, 0.25, 0.50, 1.00] # Molarity (Concentration)\n",
    "a = [0.001, 0.02, 0.026, 0.061, 0.095, 0.218] # Absorbance\n",
    "t = [99.8, 99.4, 94.2, 86.9, 80.4, 60.5] # Transmittance (%)\n",
    "\n",
    "# Unknown A: a = 0.102, t = 79.3\n",
    "# Unknown B: a =  0.05, t = 89.2\n",
    "\n",
    "plt.scatter(m, a)\n",
    "plt.title(\"Spectrophotometry Lab\")\n",
    "plt.xlabel(\"Concentration (M)\")\n",
    "plt.ylabel(\"Absorbance\")\n",
    "\n",
    "plt.show()"
   ]
  },
  {
   "cell_type": "code",
   "execution_count": 34,
   "id": "4bd24bea-06c4-491f-9f53-d4753df3995e",
   "metadata": {},
   "outputs": [
    {
     "data": {
      "image/png": "[encoded data removed]",
      "text/plain": [
       "<Figure size 640x480 with 1 Axes>"
      ]
     },
     "metadata": {},
     "output_type": "display_data"
    }
   ],
   "source": [
    "x = [0.00125, 0.0125, 0.125, 0.25, 0.50, 1.00] # Molarity (Concentration)\n",
    "y = [0.001, 0.02, 0.026, 0.061, 0.095, 0.218] # Absorbance\n",
    "\n",
    "# Convert x to a NumPy array and reshape it\n",
    "x = np.array(x).reshape(-1, 1)\n",
    "\n",
    "# Create a linear regression model\n",
    "model = LinearRegression()\n",
    "\n",
    "# Fit the model to the data\n",
    "model.fit(x, y)\n",
    "\n",
    "# Predict values\n",
    "y_pred = model.predict(x)\n",
    "\n",
    "# Create scatter plot\n",
    "plt.scatter(x, y, color='blue', label='Data Points')\n",
    "\n",
    "# Plot the linear regression line\n",
    "plt.plot(x, y_pred, color='lightgrey', label='Linear Regression Line')\n",
    "\n",
    "# Add labels and title\n",
    "plt.title(\"Spectrophotometry Lab\")\n",
    "plt.xlabel(\"Concentration (M)\")\n",
    "plt.ylabel(\"Absorbance\")\n",
    "plt.legend()\n",
    "\n",
    "# Print the equation of the line\n",
    "slope = model.coef_[0]\n",
    "intercept = model.intercept_\n",
    "\n",
    "# Calculate and print the R^2 value\n",
    "r_squared = model.score(x, y)\n",
    "\n",
    "# Add text to the plot with reduced space\n",
    "equation_text = f\"y = {slope:.3f}x + {intercept:.5f}\"\n",
    "r_squared_text = f\"R^2 = {r_squared:.3f}\"\n",
    "\n",
    "# Get the axis limits\n",
    "x_limits = plt.gca().get_xlim()\n",
    "y_limits = plt.gca().get_ylim()\n",
    "\n",
    "# Calculate positions for the text based on the axis limits\n",
    "x_text_position = x_limits[0] + (x_limits[1] - x_limits[0]) * 0.035\n",
    "y_text_position = y_limits[1] - (y_limits[1] - y_limits[0]) * 0.075\n",
    "\n",
    "plt.text(x_text_position, y_text_position, equation_text, fontsize=12, color='blue')\n",
    "plt.text(x_text_position, y_text_position - (y_limits[1] - y_limits[0]) * 0.075, r_squared_text, fontsize=12, color='blue')\n",
    "\n",
    "# Show the plot\n",
    "plt.show()"
   ]
  },
  {
   "cell_type": "code",
   "execution_count": null,
   "id": "59be655f-6744-48fb-8bb1-5aa83b65c6b5",
   "metadata": {},
   "outputs": [],
   "source": []
  },
  {
   "cell_type": "code",
   "execution_count": null,
   "id": "1f39da96-5610-4482-af2d-8d4b10b13977",
   "metadata": {},
   "outputs": [],
   "source": []
  },
  {
   "cell_type": "code",
   "execution_count": null,
   "id": "9d7c9606-1fd1-4718-b688-23c75a28d680",
   "metadata": {},
   "outputs": [],
   "source": []
  },
  {
   "cell_type": "markdown",
   "id": "b612917e-b200-4451-9395-9754961974de",
   "metadata": {},
   "source": [
    "## Post-Lab Questions\n",
    "\n",
    "---\n",
    "\n",
    "### **1. What are the IV and DV for this experiment and where do they belong on a linear regression graph?**\n",
    "\n",
    "In this experiment, the independent variable (IV) is the molar concentration of the solutions, as it is the variable that is systematically varied during the experiment to observe its effect on the absorbance, which serves as the dependent variable (DV).\n",
    "\n",
    "On the linear regression graph constructed for this experiment, the molar concentration (IV) would be plotted on the x-axis, while the absorbance (DV) would be plotted on the y-axis. \n",
    "\n",
    "This arrangement allows for the examination of how changes in concentration influence the absorbance readings obtained from the spectrophotometer.\n",
    "\n",
    "### **2. In your own words, describe the relationship between absorbance and concentration.**\n",
    "\n",
    "The relationship between absorbance and concentration is described by the Beer-Lambert Law, which shows a direct, linear correlation between the two variables.\n",
    "\n",
    "As the concentration of a solute in a solution increases, the absorbance of light by the solution also increases, assuming a constant path length and wavelength of light. This linear relationship enables the use of absorbance readings to determine the concentration of an unknown sample, provided a standard curve is available.\n",
    "\n",
    "### **3. In your own words, describe the relationship between absorbance and % transmittance.**\n",
    "   \n",
    "The relationship between absorbance and percent transmittance is inversely proportional.\n",
    "\n",
    "As absorbance increases, indicating that more light is being absorbed by the solution, the percent transmittance, which measures the fraction of light that passes through the solution, decreases. \n",
    "\n",
    "This inverse relationship is foundational to spectrophotometry, as it reflects the interaction between the solution and incident light, providing insights into the solution's composition.\n",
    "\n",
    "### **4. In your own words, describe the purpose of using a spectrophotometer. Give a concise two to three sentence explanation of how a spectrophotometer works. You can read below about this on your own and summarize what you learn. Do not just cut and paste words you do not understand. Thank you!**\n",
    "   \n",
    "A spectrophotometer is used to measure the intensity of light absorbed by a solution, which facilitates the quantitative analysis of its composition. It works by passing a beam of light through a solution and measuring the intensity of light before and after its passage. The difference in light intensity, which is quantified as absorbance, is used to infer the concentration of the absorbing species within the solution, leveraging the Beer-Lambert Law.\n",
    "\n",
    "### **5. What is the value of a serial dilution when attempting to determine the concentration of an unknown sample using a standard curve?**\n",
    "\n",
    "Serial dilution is valuable in creating a range of standard solutions with known concentrations, which are essential for constructing a standard curve. This curve enables the determination of unknown sample concentrations by providing a reference for correlating absorbance values to specific concentrations. Serial dilution ensures a comprehensive spread of concentration points, enhancing the accuracy and reliability of the standard curve, and thereby facilitating more precise estimation of unknown concentrations."
   ]
  }
 ],
 "metadata": {
  "kernelspec": {
   "display_name": "Python 3 (ipykernel)",
   "language": "python",
   "name": "python3"
  },
  "language_info": {
   "codemirror_mode": {
    "name": "ipython",
    "version": 3
   },
   "file_extension": ".py",
   "mimetype": "text/x-python",
   "name": "python",
   "nbconvert_exporter": "python",
   "pygments_lexer": "ipython3",
   "version": "3.11.3"
  }
 },
 "nbformat": 4,
 "nbformat_minor": 5
}
