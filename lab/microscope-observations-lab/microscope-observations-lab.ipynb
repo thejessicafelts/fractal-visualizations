{
 "cells": [
  {
   "cell_type": "markdown",
   "id": "09d27e39-576e-4685-86f4-e8cae2dbdb5d",
   "metadata": {},
   "source": [
    "# **Microscope Observations Lab**"
   ]
  },
  {
   "cell_type": "markdown",
   "id": "0755d2a0-3ce3-4114-b599-c1d43a00b80c",
   "metadata": {},
   "source": [
    "---\n",
    "\n",
    "#### **Specimen A**\n",
    "## *Letter \"e\" Slide (1)*\n",
    "\n",
    "Letter “e” Slide, placed on top of 0.25 inch graph paper.\n",
    "\n",
    "**Please Note:** on this slide, the letter “e” has been inverted and reversed,\n",
    "allowing for the observed image to appear right-side up.\n",
    "\n",
    "### **\\[Sketch]**\n",
    "- 100x Total Magnification\n",
    "  \n",
    "### **\\[Image]**\n",
    "- 100x Total Magnification"
   ]
  },
  {
   "cell_type": "markdown",
   "id": "f8d45b2f-1cbd-4cdd-8c31-9a720a21249b",
   "metadata": {},
   "source": [
    "---\n",
    "\n",
    "#### **Specimen B**\n",
    "## **_Letter \"e\" Slide (2)_**\n",
    "\n",
    "Letter “e” Slide, placed on top of 0.25 inch graph paper.\n",
    "\n",
    "### **\\[Sketch]**\n",
    "- 400x Total Magnification\n",
    "\n",
    "### **\\[Image]**\n",
    "- 400x Total Magnification"
   ]
  },
  {
   "cell_type": "markdown",
   "id": "0f16d80d-528b-4f1f-b299-fe0847010bf3",
   "metadata": {},
   "source": [
    "---\n",
    "\n",
    "#### **Specimen C**\n",
    "## **_Three Threads Slide_**\n",
    "\n",
    "Three Threads Slide, placed on top of 0.25 inch graph paper.\n",
    "\n",
    "### **\\[Sketch]**\n",
    "- 100x Total Magnification\n",
    "  \n",
    "### **\\[Images]**\n",
    "- 40x Total Magnification\n",
    "- 100x Total Magnification\n",
    "- 400x Total Magnification"
   ]
  },
  {
   "cell_type": "markdown",
   "id": "fb6eca5c-0bb9-4046-ade8-da099e416363",
   "metadata": {},
   "source": [
    "---\n",
    "\n",
    "#### **Specimen D**\n",
    "## **_Frog Skin Slide_**\n",
    "\n",
    "Frog Skin Slide, placed on top of 0.25 inch graph paper.\n",
    "\n",
    "### **\\[Sketch]**\n",
    "- 100x Total Magnification\n",
    "\n",
    "### **\\[Images]**\n",
    "- 40x Total Magnification\n",
    "- 100x Total Magnification\n",
    "- 400x Total Magnification"
   ]
  },
  {
   "cell_type": "markdown",
   "id": "e1276d58-e0fd-4189-9b09-64c5a690340d",
   "metadata": {},
   "source": [
    "---\n",
    "\n",
    "#### **Specimen E**\n",
    "## **_Spirogyra Slide_**\n",
    "\n",
    "Spirogyra Slide, placed on top of 0.25 inch graph paper.\n",
    "\n",
    "### **\\[Sketch]**\n",
    "- 100x Total Magnification\n",
    "\n",
    "### **\\[Images]**\n",
    "- 40x Total Magnification\n",
    "- 100x Total Magnification\n",
    "- 400x Total Magnification"
   ]
  },
  {
   "cell_type": "markdown",
   "id": "95900355-7282-45a7-8222-0431fca00d89",
   "metadata": {},
   "source": [
    "---\n",
    "\n",
    "#### **Specimen F**\n",
    "## **_Volvox Slide_**\n",
    "\n",
    "Volvox Slide, placed on top of 0.25 inch graph paper.\n",
    "\n",
    "### **\\[Sketch]**\n",
    "- 100x Total Magnification\n",
    "\n",
    "### **\\[Images]**\n",
    "- 40x Total Magnification\n",
    "- 100x Total Magnification\n",
    "- 400x Total Magnification"
   ]
  },
  {
   "cell_type": "markdown",
   "id": "4d0d3701-4c93-4a31-9882-7cbabcc1e658",
   "metadata": {},
   "source": [
    "---\n",
    "\n",
    "#### **Specimen G**\n",
    "## **_Live Paramecium Slide_**\n",
    "\n",
    "Live Paramecium Slide, placed on top of 0.25 inch graph paper.\n",
    "\n",
    "### **\\[Sketch]**\n",
    "- 40x Total Magnification\n",
    "\n",
    "### **\\[Image]**\n",
    "- 40x Total Magnification"
   ]
  },
  {
   "cell_type": "markdown",
   "id": "94a507ed-f7ea-40af-a08f-d1b40f926732",
   "metadata": {},
   "source": [
    "---\n",
    "\n",
    "#### **Specimen H**\n",
    "## **_Cheek Swab Slide_**\n",
    "\n",
    "Cheek Swab (Right) Slide, placed on top of 0.25 inch graph paper.\n",
    "\n",
    "### **\\[Sketch]**\n",
    "- 400x Total Magnification\n",
    "\n",
    "### **\\[Images]**\n",
    "- 40x Total Magnification\n",
    "- 100x Total Magnification\n",
    "- 400x Total Magnification"
   ]
  },
  {
   "cell_type": "markdown",
   "id": "90b0db46-8093-416d-bd2b-fd3e386704e0",
   "metadata": {},
   "source": [
    "---\n",
    "\n",
    "#### **Specimen I**\n",
    "## **_Nostril Swab (Right) Slide_**\n",
    "\n",
    "Nostril Swab Slide, placed on top of 0.25 inch graph paper.\n",
    "\n",
    "### **\\[Sketch]**\n",
    "- 400x Total Magnification\n",
    "\n",
    "### **\\[Images]**\n",
    "- 40x Total Magnification\n",
    "- 400x Total Magnification\n",
    "- 400x Total Magnification"
   ]
  },
  {
   "cell_type": "markdown",
   "id": "1e349fb3-1b8a-4d80-9c23-0cf5bd2e7430",
   "metadata": {},
   "source": [
    "---\n",
    "\n",
    "# **Post-Lab Questions**"
   ]
  },
  {
   "cell_type": "markdown",
   "id": "81d0a7aa-aba1-4ca5-bf06-1c9f59881ef9",
   "metadata": {},
   "source": [
    "---\n",
    "\n",
    "### **What is the proper way to carry a microscope?**\n",
    "\n",
    "The proper way to carry a microscope is by holding it by its arm with one hand and supporting its base with the other hand."
   ]
  },
  {
   "cell_type": "markdown",
   "id": "cf8013fb-c94b-4209-aaa4-a124969b2837",
   "metadata": {},
   "source": [
    "---\n",
    "\n",
    "### **What is the function of the objective lenses?**\n",
    "\n",
    "The function of the objective lenses is to magnify the specimen and to provide varying levels of magnification for viewing."
   ]
  },
  {
   "cell_type": "markdown",
   "id": "07ac1506-336b-45c0-aff9-ae01c6553316",
   "metadata": {},
   "source": [
    "---\n",
    "\n",
    "### **What is the diaphragm on the microscope used for?**\n",
    "\n",
    "The diaphragm on a microscope is used to control the amount of light that reaches the specimen, thereby adjusting the contrast and resolution of the image."
   ]
  },
  {
   "cell_type": "markdown",
   "id": "5e6c993d-06f5-48a3-aef4-1c80e2b0a123",
   "metadata": {},
   "source": [
    "---\n",
    "\n",
    "### **What is the difference between the fine and coarse adjustment knobs?**\n",
    "\n",
    "The fine adjustment knob is used for precise focusing once the initial coarse focus has been achieved with the coarse adjustment knob. The coarse knob makes large adjustments, while the fine knob makes smaller, more precise adjustments.\n",
    "\n",
    "The coarse adjustment knob can be used with 4x and 10x objective lenses, whereas the fine adjustment knob can be used with any objective lens."
   ]
  },
  {
   "cell_type": "markdown",
   "id": "91d3facb-b318-4904-9186-a1c54f69170c",
   "metadata": {},
   "source": [
    "---\n",
    "\n",
    "### **What part of the microscope produces the light?**\n",
    "\n",
    "The part of the microscope that produces light is the illuminator, often a built-in light source such as an LED or halogen lamp."
   ]
  },
  {
   "cell_type": "markdown",
   "id": "53cae786-a7dc-4871-bd06-6632d8478104",
   "metadata": {},
   "source": [
    "---\n",
    "\n",
    "### **What is the total magnification power of your microscope under the following operating conditions?**"
   ]
  },
  {
   "cell_type": "code",
   "execution_count": 7,
   "id": "dc63947b-1bcf-4f30-a2bb-717e783aa972",
   "metadata": {},
   "outputs": [
    {
     "data": {
      "text/html": [
       "<table border=\"1\" class=\"dataframe\">\n",
       "  <thead>\n",
       "    <tr style=\"text-align: right;\">\n",
       "      <th>Objective</th>\n",
       "      <th>Occular</th>\n",
       "      <th>Total Magnification</th>\n",
       "    </tr>\n",
       "  </thead>\n",
       "  <tbody>\n",
       "    <tr>\n",
       "      <td>DIN 4</td>\n",
       "      <td>10x</td>\n",
       "      <td>?</td>\n",
       "    </tr>\n",
       "    <tr>\n",
       "      <td>DIN 10</td>\n",
       "      <td>10x</td>\n",
       "      <td>?</td>\n",
       "    </tr>\n",
       "    <tr>\n",
       "      <td>DIN 40</td>\n",
       "      <td>10x</td>\n",
       "      <td>?</td>\n",
       "    </tr>\n",
       "  </tbody>\n",
       "</table>"
      ],
      "text/plain": [
       "<IPython.core.display.HTML object>"
      ]
     },
     "metadata": {},
     "output_type": "display_data"
    }
   ],
   "source": [
    "import pandas as pd\n",
    "from IPython.display import display, HTML\n",
    "\n",
    "data = {\n",
    "    'Objective': ['DIN 4', 'DIN 10', 'DIN 40'],\n",
    "    'Occular': ['10x', '10x', '10x'],\n",
    "    'Total Magnification': ['?', '?', '?']\n",
    "}\n",
    "\n",
    "df = pd.DataFrame(data)\n",
    "\n",
    "# Display DataFrame without index using to_html\n",
    "html_table = df.to_html(index=False)\n",
    "display(HTML(html_table))"
   ]
  },
  {
   "cell_type": "code",
   "execution_count": 8,
   "id": "58955963-af60-46c6-a089-852256e5c512",
   "metadata": {},
   "outputs": [
    {
     "data": {
      "text/html": [
       "<table border=\"1\" class=\"dataframe\">\n",
       "  <thead>\n",
       "    <tr style=\"text-align: right;\">\n",
       "      <th>Objective</th>\n",
       "      <th>Occular</th>\n",
       "      <th>Total Magnification</th>\n",
       "    </tr>\n",
       "  </thead>\n",
       "  <tbody>\n",
       "    <tr>\n",
       "      <td>DIN 4</td>\n",
       "      <td>10x</td>\n",
       "      <td>40x Total Magnification</td>\n",
       "    </tr>\n",
       "    <tr>\n",
       "      <td>DIN 10</td>\n",
       "      <td>10x</td>\n",
       "      <td>100x Total Magnification</td>\n",
       "    </tr>\n",
       "    <tr>\n",
       "      <td>DIN 40</td>\n",
       "      <td>10x</td>\n",
       "      <td>400x Total Magnification</td>\n",
       "    </tr>\n",
       "  </tbody>\n",
       "</table>"
      ],
      "text/plain": [
       "<IPython.core.display.HTML object>"
      ]
     },
     "metadata": {},
     "output_type": "display_data"
    }
   ],
   "source": [
    "import pandas as pd\n",
    "from IPython.display import display, HTML\n",
    "\n",
    "data = {\n",
    "    'Objective': ['DIN 4', 'DIN 10', 'DIN 40'],\n",
    "    'Occular': ['10x', '10x', '10x'],\n",
    "    'Total Magnification': ['40x Total Magnification', '100x Total Magnification', '400x Total Magnification']\n",
    "}\n",
    "\n",
    "df = pd.DataFrame(data)\n",
    "\n",
    "# Display DataFrame without index using to_html\n",
    "html_table = df.to_html(index=False)\n",
    "display(HTML(html_table))"
   ]
  },
  {
   "cell_type": "markdown",
   "id": "cf4072a1-70af-4f51-abe4-c8d586e9dce2",
   "metadata": {},
   "source": [
    "---\n",
    "\n",
    "### **If your microscope lens is dirty, what should you use to clean it?**\n",
    "\n",
    "If your microscope lens is dirty, it should be cleaned with lens paper or a special lens cleaning solution recommended for optical surfaces."
   ]
  },
  {
   "cell_type": "markdown",
   "id": "032b447d-2869-400b-b80a-b52095830742",
   "metadata": {},
   "source": [
    "---\n",
    "\n",
    "### **What happens to the light intensity as you adjust the diaphragm? Explain your answer.**\n",
    "\n",
    "Adjusting the diaphragm affects light intensity by increasing or decreasing it, which in turn can enhance or reduce contrast and detail visibility in the specimen."
   ]
  },
  {
   "cell_type": "markdown",
   "id": "96f2c8bd-2dfe-4674-b221-2d47ca9710fe",
   "metadata": {},
   "source": [
    "---\n",
    "\n",
    "### **Explain why a specimen that you wish to view with a compound light microscope must be very thin.**\n",
    "\n",
    "A specimen must be very thin for viewing with a compound light microscope to allow light to pass through it for clear imaging and to ensure that details within the specimen can be resolved."
   ]
  },
  {
   "cell_type": "markdown",
   "id": "a797e146-aa4c-41a2-9f01-7e9b957b73c1",
   "metadata": {},
   "source": [
    "---\n",
    "\n",
    "### **What happens to the brightness of the field of view when you change from low power to high power? (This about this one--have you cahnged the light source or diaphram any?) Explain your answer.**\n",
    "\n",
    "When changing from low power to high power, the brightness of the field of view generally decreases because the higher magnification lenses allow less light to pass through."
   ]
  },
  {
   "cell_type": "markdown",
   "id": "99df24fa-f4aa-49e1-9681-501055ba8a07",
   "metadata": {},
   "source": [
    "---\n",
    "\n",
    "### **What happens to the size of the field of view of a microscope when you switch from low power to high power?**\n",
    "\n",
    "The size of the field of view decreases when switching from low power to high power because higher magnification lenses focus on a smaller area of the specimen."
   ]
  },
  {
   "cell_type": "markdown",
   "id": "d41c381d-8b66-4e10-aad5-7d931b005218",
   "metadata": {},
   "source": [
    "---\n",
    "\n",
    "### **Why should you use a 4x or scanning objective lens when viewing a slide for the first time? What are the advantages of this approach?**\n",
    "\n",
    "Using the 4x or scanning objective lens when initially viewing the slide allows for easier location and focusing on the specimen, providing a wider field of view and lower magnification."
   ]
  },
  {
   "cell_type": "markdown",
   "id": "dd7fb515-2117-4a26-8252-5983e8b45c04",
   "metadata": {},
   "source": [
    "---\n",
    "\n",
    "### **Explain why it is important not to use the coarse adjustment knob after oyu have moved to a power other than low?**\n",
    "\n",
    "It is important not to use the coarse adjustment knob at higher powers to prevent damage to the slide or the lens due to the closer proximity of the objective lens to the slide."
   ]
  },
  {
   "cell_type": "markdown",
   "id": "e656c8c9-f9af-4a08-914a-6132cc088a08",
   "metadata": {},
   "source": [
    "---\n",
    "\n",
    "### **Compare the position of the letter \"e\" as seen with the microscope to the position of the letter \"e\" on the slide. How has it changed? If it is right side up and forward on the slide, how is it seen through the microscope?**\n",
    "\n",
    "The position of the letter \"e\" as seen through the microscope is inverted and reversed compared to its position on the slide."
   ]
  },
  {
   "cell_type": "markdown",
   "id": "bcf2cab1-602b-4733-91eb-69364ec23fce",
   "metadata": {},
   "source": [
    "---\n",
    "\n",
    "### **When you move the slide to the left on the stage, in what direction does the image appear to move?**\n",
    "\n",
    "When the slide is moved to the left on the stage, the image appears to move to the right in the field of view."
   ]
  },
  {
   "cell_type": "markdown",
   "id": "402f0c52-6753-4d6e-8043-fea39239aea5",
   "metadata": {},
   "source": [
    "---\n",
    "\n",
    "### **What happened to resolution when you went from medium power to high power?**\n",
    "\n",
    "When moving from medium to high power, the resolution generally improves, allowing for finer details of the specimen to be seen, assuming the optical quality of the microscope is sufficient."
   ]
  }
 ],
 "metadata": {
  "kernelspec": {
   "display_name": "Python 3 (ipykernel)",
   "language": "python",
   "name": "python3"
  },
  "language_info": {
   "codemirror_mode": {
    "name": "ipython",
    "version": 3
   },
   "file_extension": ".py",
   "mimetype": "text/x-python",
   "name": "python",
   "nbconvert_exporter": "python",
   "pygments_lexer": "ipython3",
   "version": "3.11.3"
  }
 },
 "nbformat": 4,
 "nbformat_minor": 5
}
